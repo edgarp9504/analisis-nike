{
    "metadata": {
        "kernelspec": {
            "name": "SQL",
            "display_name": "SQL",
            "language": "sql"
        },
        "language_info": {
            "name": "sql",
            "version": ""
        }
    },
    "nbformat_minor": 2,
    "nbformat": 4,
    "cells": [
        {
            "cell_type": "markdown",
            "source": [
                "Empezaremos analizando en total contamos con 6 tablas, se considerara como la tabla \"sale\" como tabla de hecho"
            ],
            "metadata": {
                "language": "sql",
                "azdata_cell_guid": "70b1764f-3ee3-4b6c-9931-5a22e2dc4f9a"
            },
            "attachments": {}
        },
        {
            "cell_type": "code",
            "source": [
                "SELECT top 5 * FROM [dbo].[Countries]\r\n",
                "SELECT top 5 * FROM [dbo].[Customer]\r\n",
                "SELECT top 5 * FROM [dbo].[orden_status]\r\n",
                "SELECT top 5 * FROM [dbo].[Products]\r\n",
                "SELECT top 5 * FROM [dbo].[Region]\r\n",
                "SELECT top 5 * FROM [dbo].[Sales]"
            ],
            "metadata": {
                "language": "sql",
                "azdata_cell_guid": "2e67ab4f-5749-44ae-9ff2-7e34ccfdda62"
            },
            "outputs": [
                {
                    "output_type": "display_data",
                    "data": {
                        "text/html": "(5 rows affected)"
                    },
                    "metadata": {}
                },
                {
                    "output_type": "display_data",
                    "data": {
                        "text/html": "(5 rows affected)"
                    },
                    "metadata": {}
                },
                {
                    "output_type": "display_data",
                    "data": {
                        "text/html": "(5 rows affected)"
                    },
                    "metadata": {}
                },
                {
                    "output_type": "display_data",
                    "data": {
                        "text/html": "(5 rows affected)"
                    },
                    "metadata": {}
                },
                {
                    "output_type": "display_data",
                    "data": {
                        "text/html": "(5 rows affected)"
                    },
                    "metadata": {}
                },
                {
                    "output_type": "display_data",
                    "data": {
                        "text/html": "(5 rows affected)"
                    },
                    "metadata": {}
                },
                {
                    "output_type": "display_data",
                    "data": {
                        "text/html": "Total execution time: 00:00:00.082"
                    },
                    "metadata": {}
                },
                {
                    "output_type": "execute_result",
                    "metadata": {},
                    "execution_count": 8,
                    "data": {
                        "application/vnd.dataresource+json": {
                            "schema": {
                                "fields": [
                                    {
                                        "name": "id_country"
                                    },
                                    {
                                        "name": "country"
                                    },
                                    {
                                        "name": "id_region"
                                    }
                                ]
                            },
                            "data": [
                                {
                                    "id_country": "1",
                                    "country": "Mexico",
                                    "id_region": "1"
                                },
                                {
                                    "id_country": "2",
                                    "country": "United Kingdom",
                                    "id_region": "2"
                                },
                                {
                                    "id_country": "3",
                                    "country": "Brasil",
                                    "id_region": "1"
                                },
                                {
                                    "id_country": "4",
                                    "country": "Japan",
                                    "id_region": "3"
                                },
                                {
                                    "id_country": "5",
                                    "country": "Egypt",
                                    "id_region": "4"
                                }
                            ]
                        },
                        "text/html": [
                            "<table>",
                            "<tr><th>id_country</th><th>country</th><th>id_region</th></tr>",
                            "<tr><td>1</td><td>Mexico</td><td>1</td></tr>",
                            "<tr><td>2</td><td>United Kingdom</td><td>2</td></tr>",
                            "<tr><td>3</td><td>Brasil</td><td>1</td></tr>",
                            "<tr><td>4</td><td>Japan</td><td>3</td></tr>",
                            "<tr><td>5</td><td>Egypt</td><td>4</td></tr>",
                            "</table>"
                        ]
                    }
                },
                {
                    "output_type": "execute_result",
                    "metadata": {},
                    "execution_count": 8,
                    "data": {
                        "application/vnd.dataresource+json": {
                            "schema": {
                                "fields": [
                                    {
                                        "name": "id_customer"
                                    },
                                    {
                                        "name": "date_creation"
                                    },
                                    {
                                        "name": "customer_name"
                                    },
                                    {
                                        "name": "id_region"
                                    },
                                    {
                                        "name": "id_country"
                                    }
                                ]
                            },
                            "data": [
                                {
                                    "id_customer": "1",
                                    "date_creation": "2023-10-31",
                                    "customer_name": "Connor Johnson",
                                    "id_region": "3",
                                    "id_country": "10"
                                },
                                {
                                    "id_customer": "2",
                                    "date_creation": "2023-11-20",
                                    "customer_name": "Olivia Smith",
                                    "id_region": "1",
                                    "id_country": "7"
                                },
                                {
                                    "id_customer": "3",
                                    "date_creation": "2023-11-03",
                                    "customer_name": "Liam Brown",
                                    "id_region": "4",
                                    "id_country": "3"
                                },
                                {
                                    "id_customer": "4",
                                    "date_creation": "2023-10-18",
                                    "customer_name": "Emma Davis",
                                    "id_region": "2",
                                    "id_country": "2"
                                },
                                {
                                    "id_customer": "5",
                                    "date_creation": "2023-11-20",
                                    "customer_name": "Noah Miller",
                                    "id_region": "1",
                                    "id_country": "5"
                                }
                            ]
                        },
                        "text/html": [
                            "<table>",
                            "<tr><th>id_customer</th><th>date_creation</th><th>customer_name</th><th>id_region</th><th>id_country</th></tr>",
                            "<tr><td>1</td><td>2023-10-31</td><td>Connor Johnson</td><td>3</td><td>10</td></tr>",
                            "<tr><td>2</td><td>2023-11-20</td><td>Olivia Smith</td><td>1</td><td>7</td></tr>",
                            "<tr><td>3</td><td>2023-11-03</td><td>Liam Brown</td><td>4</td><td>3</td></tr>",
                            "<tr><td>4</td><td>2023-10-18</td><td>Emma Davis</td><td>2</td><td>2</td></tr>",
                            "<tr><td>5</td><td>2023-11-20</td><td>Noah Miller</td><td>1</td><td>5</td></tr>",
                            "</table>"
                        ]
                    }
                },
                {
                    "output_type": "execute_result",
                    "metadata": {},
                    "execution_count": 8,
                    "data": {
                        "application/vnd.dataresource+json": {
                            "schema": {
                                "fields": [
                                    {
                                        "name": "id_status"
                                    },
                                    {
                                        "name": "description"
                                    }
                                ]
                            },
                            "data": [
                                {
                                    "id_status": "1001",
                                    "description": "Created"
                                },
                                {
                                    "id_status": "1002",
                                    "description": "Processed"
                                },
                                {
                                    "id_status": "1003",
                                    "description": "Fulfilled"
                                },
                                {
                                    "id_status": "1004",
                                    "description": "Returned"
                                },
                                {
                                    "id_status": "1005",
                                    "description": "Cancelled"
                                }
                            ]
                        },
                        "text/html": [
                            "<table>",
                            "<tr><th>id_status</th><th>description</th></tr>",
                            "<tr><td>1001</td><td>Created</td></tr>",
                            "<tr><td>1002</td><td>Processed</td></tr>",
                            "<tr><td>1003</td><td>Fulfilled</td></tr>",
                            "<tr><td>1004</td><td>Returned</td></tr>",
                            "<tr><td>1005</td><td>Cancelled</td></tr>",
                            "</table>"
                        ]
                    }
                },
                {
                    "output_type": "execute_result",
                    "metadata": {},
                    "execution_count": 8,
                    "data": {
                        "application/vnd.dataresource+json": {
                            "schema": {
                                "fields": [
                                    {
                                        "name": "id_product"
                                    },
                                    {
                                        "name": "product_name"
                                    },
                                    {
                                        "name": "category"
                                    },
                                    {
                                        "name": "unit_price"
                                    }
                                ]
                            },
                            "data": [
                                {
                                    "id_product": "1",
                                    "product_name": "Air Jordan 1",
                                    "category": "Jordan",
                                    "unit_price": "175.000000"
                                },
                                {
                                    "id_product": "2",
                                    "product_name": "Air Force 1",
                                    "category": "Air Force",
                                    "unit_price": "105.000000"
                                },
                                {
                                    "id_product": "3",
                                    "product_name": "Dunk Low",
                                    "category": "Dunk",
                                    "unit_price": "125.000000"
                                },
                                {
                                    "id_product": "4",
                                    "product_name": "Air Max 90",
                                    "category": "Air Max",
                                    "unit_price": "140.000000"
                                },
                                {
                                    "id_product": "5",
                                    "product_name": "Blazer Mid",
                                    "category": "Blazer",
                                    "unit_price": "95.000000"
                                }
                            ]
                        },
                        "text/html": [
                            "<table>",
                            "<tr><th>id_product</th><th>product_name</th><th>category</th><th>unit_price</th></tr>",
                            "<tr><td>1</td><td>Air Jordan 1</td><td>Jordan</td><td>175.000000</td></tr>",
                            "<tr><td>2</td><td>Air Force 1</td><td>Air Force</td><td>105.000000</td></tr>",
                            "<tr><td>3</td><td>Dunk Low</td><td>Dunk</td><td>125.000000</td></tr>",
                            "<tr><td>4</td><td>Air Max 90</td><td>Air Max</td><td>140.000000</td></tr>",
                            "<tr><td>5</td><td>Blazer Mid</td><td>Blazer</td><td>95.000000</td></tr>",
                            "</table>"
                        ]
                    }
                },
                {
                    "output_type": "execute_result",
                    "metadata": {},
                    "execution_count": 8,
                    "data": {
                        "application/vnd.dataresource+json": {
                            "schema": {
                                "fields": [
                                    {
                                        "name": "id_region"
                                    },
                                    {
                                        "name": "continent"
                                    }
                                ]
                            },
                            "data": [
                                {
                                    "id_region": "1",
                                    "continent": "America"
                                },
                                {
                                    "id_region": "2",
                                    "continent": "Europe"
                                },
                                {
                                    "id_region": "3",
                                    "continent": "Asia"
                                },
                                {
                                    "id_region": "4",
                                    "continent": "Africa"
                                },
                                {
                                    "id_region": "5",
                                    "continent": "Australia"
                                }
                            ]
                        },
                        "text/html": [
                            "<table>",
                            "<tr><th>id_region</th><th>continent</th></tr>",
                            "<tr><td>1</td><td>America</td></tr>",
                            "<tr><td>2</td><td>Europe</td></tr>",
                            "<tr><td>3</td><td>Asia</td></tr>",
                            "<tr><td>4</td><td>Africa</td></tr>",
                            "<tr><td>5</td><td>Australia</td></tr>",
                            "</table>"
                        ]
                    }
                },
                {
                    "output_type": "execute_result",
                    "metadata": {},
                    "execution_count": 8,
                    "data": {
                        "application/vnd.dataresource+json": {
                            "schema": {
                                "fields": [
                                    {
                                        "name": "id_sale"
                                    },
                                    {
                                        "name": "date_sale"
                                    },
                                    {
                                        "name": "id_customer"
                                    },
                                    {
                                        "name": "id_product"
                                    },
                                    {
                                        "name": "quantity"
                                    },
                                    {
                                        "name": "id_status"
                                    }
                                ]
                            },
                            "data": [
                                {
                                    "id_sale": "1",
                                    "date_sale": "2023-12-15",
                                    "id_customer": "42",
                                    "id_product": "13",
                                    "quantity": "12",
                                    "id_status": "1001"
                                },
                                {
                                    "id_sale": "2",
                                    "date_sale": "2023-12-05",
                                    "id_customer": "29",
                                    "id_product": "8",
                                    "quantity": "11",
                                    "id_status": "1002"
                                },
                                {
                                    "id_sale": "3",
                                    "date_sale": "2023-10-29",
                                    "id_customer": "5",
                                    "id_product": "23",
                                    "quantity": "8",
                                    "id_status": "1003"
                                },
                                {
                                    "id_sale": "4",
                                    "date_sale": "2023-11-20",
                                    "id_customer": "30",
                                    "id_product": "10",
                                    "quantity": "9",
                                    "id_status": "1004"
                                },
                                {
                                    "id_sale": "5",
                                    "date_sale": "2023-12-17",
                                    "id_customer": "20",
                                    "id_product": "1",
                                    "quantity": "13",
                                    "id_status": "1005"
                                }
                            ]
                        },
                        "text/html": [
                            "<table>",
                            "<tr><th>id_sale</th><th>date_sale</th><th>id_customer</th><th>id_product</th><th>quantity</th><th>id_status</th></tr>",
                            "<tr><td>1</td><td>2023-12-15</td><td>42</td><td>13</td><td>12</td><td>1001</td></tr>",
                            "<tr><td>2</td><td>2023-12-05</td><td>29</td><td>8</td><td>11</td><td>1002</td></tr>",
                            "<tr><td>3</td><td>2023-10-29</td><td>5</td><td>23</td><td>8</td><td>1003</td></tr>",
                            "<tr><td>4</td><td>2023-11-20</td><td>30</td><td>10</td><td>9</td><td>1004</td></tr>",
                            "<tr><td>5</td><td>2023-12-17</td><td>20</td><td>1</td><td>13</td><td>1005</td></tr>",
                            "</table>"
                        ]
                    }
                }
            ],
            "execution_count": 8
        },
        {
            "cell_type": "markdown",
            "source": [
                "Se procede a sacar los numeros de caracteres para las columnas de texto"
            ],
            "metadata": {
                "language": "sql",
                "azdata_cell_guid": "923fe817-e5eb-4692-acf3-105106166411"
            },
            "attachments": {}
        },
        {
            "cell_type": "code",
            "source": [
                "\r\n",
                "SELECT MAX(LEN(country)) FROM [dbo].[Countries]\r\n",
                "\r\n",
                "\r\n",
                "SELECT MAX(LEN(customer_name)) FROM [dbo].[Customer]\r\n",
                "\r\n",
                "SELECT MAX(LEN(description)) FROM [dbo].[orden_status]\r\n",
                "\r\n",
                "SELECT MAX(LEN(category)) FROM [dbo].[Products]\r\n",
                "SELECT MAX(LEN(product_name)) FROM [dbo].[Products]\r\n",
                "\r\n",
                "SELECT MAX(LEN(continent)) FROM [dbo].[Region]"
            ],
            "metadata": {
                "language": "sql",
                "azdata_cell_guid": "9ad2de3f-5585-4530-8d20-2fc4e2e9f8df"
            },
            "outputs": [
                {
                    "output_type": "display_data",
                    "data": {
                        "text/html": "(1 row affected)"
                    },
                    "metadata": {}
                },
                {
                    "output_type": "display_data",
                    "data": {
                        "text/html": "(1 row affected)"
                    },
                    "metadata": {}
                },
                {
                    "output_type": "display_data",
                    "data": {
                        "text/html": "(1 row affected)"
                    },
                    "metadata": {}
                },
                {
                    "output_type": "display_data",
                    "data": {
                        "text/html": "(1 row affected)"
                    },
                    "metadata": {}
                },
                {
                    "output_type": "display_data",
                    "data": {
                        "text/html": "(1 row affected)"
                    },
                    "metadata": {}
                },
                {
                    "output_type": "display_data",
                    "data": {
                        "text/html": "(1 row affected)"
                    },
                    "metadata": {}
                },
                {
                    "output_type": "display_data",
                    "data": {
                        "text/html": "Total execution time: 00:00:00.061"
                    },
                    "metadata": {}
                },
                {
                    "output_type": "execute_result",
                    "metadata": {},
                    "execution_count": 10,
                    "data": {
                        "application/vnd.dataresource+json": {
                            "schema": {
                                "fields": [
                                    {
                                        "name": "(No column name)"
                                    }
                                ]
                            },
                            "data": [
                                {
                                    "(No column name)": "14"
                                }
                            ]
                        },
                        "text/html": [
                            "<table>",
                            "<tr><th>(No column name)</th></tr>",
                            "<tr><td>14</td></tr>",
                            "</table>"
                        ]
                    }
                },
                {
                    "output_type": "execute_result",
                    "metadata": {},
                    "execution_count": 10,
                    "data": {
                        "application/vnd.dataresource+json": {
                            "schema": {
                                "fields": [
                                    {
                                        "name": "(No column name)"
                                    }
                                ]
                            },
                            "data": [
                                {
                                    "(No column name)": "16"
                                }
                            ]
                        },
                        "text/html": [
                            "<table>",
                            "<tr><th>(No column name)</th></tr>",
                            "<tr><td>16</td></tr>",
                            "</table>"
                        ]
                    }
                },
                {
                    "output_type": "execute_result",
                    "metadata": {},
                    "execution_count": 10,
                    "data": {
                        "application/vnd.dataresource+json": {
                            "schema": {
                                "fields": [
                                    {
                                        "name": "(No column name)"
                                    }
                                ]
                            },
                            "data": [
                                {
                                    "(No column name)": "9"
                                }
                            ]
                        },
                        "text/html": [
                            "<table>",
                            "<tr><th>(No column name)</th></tr>",
                            "<tr><td>9</td></tr>",
                            "</table>"
                        ]
                    }
                },
                {
                    "output_type": "execute_result",
                    "metadata": {},
                    "execution_count": 10,
                    "data": {
                        "application/vnd.dataresource+json": {
                            "schema": {
                                "fields": [
                                    {
                                        "name": "(No column name)"
                                    }
                                ]
                            },
                            "data": [
                                {
                                    "(No column name)": "13"
                                }
                            ]
                        },
                        "text/html": [
                            "<table>",
                            "<tr><th>(No column name)</th></tr>",
                            "<tr><td>13</td></tr>",
                            "</table>"
                        ]
                    }
                },
                {
                    "output_type": "execute_result",
                    "metadata": {},
                    "execution_count": 10,
                    "data": {
                        "application/vnd.dataresource+json": {
                            "schema": {
                                "fields": [
                                    {
                                        "name": "(No column name)"
                                    }
                                ]
                            },
                            "data": [
                                {
                                    "(No column name)": "32"
                                }
                            ]
                        },
                        "text/html": [
                            "<table>",
                            "<tr><th>(No column name)</th></tr>",
                            "<tr><td>32</td></tr>",
                            "</table>"
                        ]
                    }
                },
                {
                    "output_type": "execute_result",
                    "metadata": {},
                    "execution_count": 10,
                    "data": {
                        "application/vnd.dataresource+json": {
                            "schema": {
                                "fields": [
                                    {
                                        "name": "(No column name)"
                                    }
                                ]
                            },
                            "data": [
                                {
                                    "(No column name)": "9"
                                }
                            ]
                        },
                        "text/html": [
                            "<table>",
                            "<tr><th>(No column name)</th></tr>",
                            "<tr><td>9</td></tr>",
                            "</table>"
                        ]
                    }
                }
            ],
            "execution_count": 10
        },
        {
            "cell_type": "markdown",
            "source": [
                "Analisando relacion de datos por un usuario aleatoreo\n",
                "\n",
                "En este analisis procedemos a ver que el id\\_region y id\\_continent no tienen congruencia, ya que al hacer el join de las tablas no trae congruencia de de los paises con continentes.\n",
                "\n",
                "\\- Se considerara id\\_region como la region donde se creo el usuario\n",
                "\n",
                "\\- Se considera id\\_country como el pais donde reside el cliente junto con su continente"
            ],
            "metadata": {
                "language": "sql",
                "azdata_cell_guid": "3054ebe8-728e-458c-9669-7642696add34"
            },
            "attachments": {}
        },
        {
            "cell_type": "code",
            "source": [
                "SELECT * FROM Customer WHERE customer_name = 'Olivia Smith'\r\n",
                "SELECT * FROM Countries\r\n",
                "SELECT * FROM Region"
            ],
            "metadata": {
                "language": "sql",
                "azdata_cell_guid": "1516f042-3c14-4497-a1d4-174981021e8a",
                "tags": [
                    "hide_input"
                ]
            },
            "outputs": [
                {
                    "output_type": "display_data",
                    "data": {
                        "text/html": "(1 row affected)"
                    },
                    "metadata": {}
                },
                {
                    "output_type": "display_data",
                    "data": {
                        "text/html": "(10 rows affected)"
                    },
                    "metadata": {}
                },
                {
                    "output_type": "display_data",
                    "data": {
                        "text/html": "(5 rows affected)"
                    },
                    "metadata": {}
                },
                {
                    "output_type": "display_data",
                    "data": {
                        "text/html": "Total execution time: 00:00:00.441"
                    },
                    "metadata": {}
                },
                {
                    "output_type": "execute_result",
                    "execution_count": 196,
                    "data": {
                        "application/vnd.dataresource+json": {
                            "schema": {
                                "fields": [
                                    {
                                        "name": "id_customer"
                                    },
                                    {
                                        "name": "date_creation"
                                    },
                                    {
                                        "name": "customer_name"
                                    },
                                    {
                                        "name": "id_region"
                                    },
                                    {
                                        "name": "id_country"
                                    }
                                ]
                            },
                            "data": [
                                {
                                    "id_customer": "2",
                                    "date_creation": "2023-11-20",
                                    "customer_name": "Olivia Smith",
                                    "id_region": "1",
                                    "id_country": "7"
                                }
                            ]
                        },
                        "text/html": "<table><tr><th>id_customer</th><th>date_creation</th><th>customer_name</th><th>id_region</th><th>id_country</th></tr><tr><td>2</td><td>2023-11-20</td><td>Olivia Smith</td><td>1</td><td>7</td></tr></table>"
                    },
                    "metadata": {}
                },
                {
                    "output_type": "execute_result",
                    "execution_count": 196,
                    "data": {
                        "application/vnd.dataresource+json": {
                            "schema": {
                                "fields": [
                                    {
                                        "name": "id_country"
                                    },
                                    {
                                        "name": "country"
                                    },
                                    {
                                        "name": "id_region"
                                    }
                                ]
                            },
                            "data": [
                                {
                                    "id_country": "1",
                                    "country": "Mexico",
                                    "id_region": "1"
                                },
                                {
                                    "id_country": "2",
                                    "country": "United Kingdom",
                                    "id_region": "2"
                                },
                                {
                                    "id_country": "3",
                                    "country": "Brasil",
                                    "id_region": "1"
                                },
                                {
                                    "id_country": "4",
                                    "country": "Japan",
                                    "id_region": "3"
                                },
                                {
                                    "id_country": "5",
                                    "country": "Egypt",
                                    "id_region": "4"
                                },
                                {
                                    "id_country": "6",
                                    "country": "Australia",
                                    "id_region": "5"
                                },
                                {
                                    "id_country": "7",
                                    "country": "New Zeland",
                                    "id_region": "5"
                                },
                                {
                                    "id_country": "8",
                                    "country": "Morocco",
                                    "id_region": "4"
                                },
                                {
                                    "id_country": "9",
                                    "country": "South Korea",
                                    "id_region": "3"
                                },
                                {
                                    "id_country": "10",
                                    "country": "Germany",
                                    "id_region": "2"
                                }
                            ]
                        },
                        "text/html": "<table><tr><th>id_country</th><th>country</th><th>id_region</th></tr><tr><td>1</td><td>Mexico</td><td>1</td></tr><tr><td>2</td><td>United Kingdom</td><td>2</td></tr><tr><td>3</td><td>Brasil</td><td>1</td></tr><tr><td>4</td><td>Japan</td><td>3</td></tr><tr><td>5</td><td>Egypt</td><td>4</td></tr><tr><td>6</td><td>Australia</td><td>5</td></tr><tr><td>7</td><td>New Zeland</td><td>5</td></tr><tr><td>8</td><td>Morocco</td><td>4</td></tr><tr><td>9</td><td>South Korea</td><td>3</td></tr><tr><td>10</td><td>Germany</td><td>2</td></tr></table>"
                    },
                    "metadata": {}
                },
                {
                    "output_type": "execute_result",
                    "execution_count": 196,
                    "data": {
                        "application/vnd.dataresource+json": {
                            "schema": {
                                "fields": [
                                    {
                                        "name": "id_region"
                                    },
                                    {
                                        "name": "continent"
                                    }
                                ]
                            },
                            "data": [
                                {
                                    "id_region": "1",
                                    "continent": "America"
                                },
                                {
                                    "id_region": "2",
                                    "continent": "Europe"
                                },
                                {
                                    "id_region": "3",
                                    "continent": "Asia"
                                },
                                {
                                    "id_region": "4",
                                    "continent": "Africa"
                                },
                                {
                                    "id_region": "5",
                                    "continent": "Australia"
                                }
                            ]
                        },
                        "text/html": "<table><tr><th>id_region</th><th>continent</th></tr><tr><td>1</td><td>America</td></tr><tr><td>2</td><td>Europe</td></tr><tr><td>3</td><td>Asia</td></tr><tr><td>4</td><td>Africa</td></tr><tr><td>5</td><td>Australia</td></tr></table>"
                    },
                    "metadata": {}
                }
            ],
            "execution_count": 196
        },
        {
            "cell_type": "markdown",
            "source": [
                "Se procede a crear una vista para simplificar el analisis de datos"
            ],
            "metadata": {
                "language": "sql",
                "azdata_cell_guid": "0df55108-f102-4b70-a2e4-dc884bd7840d"
            },
            "attachments": {}
        },
        {
            "cell_type": "code",
            "source": [
                "CREATE VIEW VIZ_SALES \r\n",
                "AS\r\n",
                "SELECT \r\n",
                "       SL.[id_sale]\r\n",
                "      ,SL.[date_sale]\r\n",
                "      ,CS.[date_creation]\r\n",
                "      ,CS.[customer_name]\r\n",
                "      ,RG.[continent] AS continent_created\r\n",
                "      ,RGV.continent \r\n",
                "      ,CTS.[country] \r\n",
                "      ,PD.[product_name]\r\n",
                "      ,PD.[category]\r\n",
                "      ,OST.[description]\r\n",
                "      ,PD.[unit_price]\r\n",
                "      ,SL.[quantity]\r\n",
                "      \r\n",
                "FROM [dbo].[Sales] AS SL\r\n",
                "\r\n",
                "LEFT JOIN Customer AS CS ON SL.id_customer = CS.id_customer\r\n",
                "LEFT JOIN Region AS RG ON CS.id_region = RG.id_region\r\n",
                "\r\n",
                "LEFT JOIN Countries AS CTS ON CS.id_country  = CTS.id_country\r\n",
                "LEFT JOIN Region AS RGV ON CTS.id_region = RGV.id_region\r\n",
                "LEFT JOIN Products AS PD ON SL.id_product =  PD.id_product \r\n",
                "LEFT JOIN orden_status AS OST ON SL.id_status = OST.id_status\r\n",
                "\r\n",
                ""
            ],
            "metadata": {
                "azdata_cell_guid": "8feb5976-cc7f-472c-a0f1-214f92db6eaa",
                "language": "sql"
            },
            "outputs": [
                {
                    "output_type": "display_data",
                    "data": {
                        "text/html": "Commands completed successfully."
                    },
                    "metadata": {}
                },
                {
                    "output_type": "display_data",
                    "data": {
                        "text/html": "Total execution time: 00:00:00.049"
                    },
                    "metadata": {}
                }
            ],
            "execution_count": 200
        },
        {
            "cell_type": "markdown",
            "source": [
                "Validar la view que se creo"
            ],
            "metadata": {
                "language": "sql",
                "azdata_cell_guid": "3605d883-227c-4762-9ab3-36b2d47ab097"
            },
            "attachments": {}
        },
        {
            "cell_type": "code",
            "source": [
                "SELECT TOP 5 * FROM VIZ_SALES"
            ],
            "metadata": {
                "language": "sql",
                "azdata_cell_guid": "edbd7f81-410d-40b9-a7e9-051c95292dd5"
            },
            "outputs": [
                {
                    "output_type": "display_data",
                    "data": {
                        "text/html": "(5 rows affected)"
                    },
                    "metadata": {}
                },
                {
                    "output_type": "display_data",
                    "data": {
                        "text/html": "Total execution time: 00:00:00.049"
                    },
                    "metadata": {}
                },
                {
                    "output_type": "execute_result",
                    "execution_count": 201,
                    "data": {
                        "application/vnd.dataresource+json": {
                            "schema": {
                                "fields": [
                                    {
                                        "name": "id_sale"
                                    },
                                    {
                                        "name": "date_sale"
                                    },
                                    {
                                        "name": "date_creation"
                                    },
                                    {
                                        "name": "customer_name"
                                    },
                                    {
                                        "name": "continent_created"
                                    },
                                    {
                                        "name": "continent"
                                    },
                                    {
                                        "name": "country"
                                    },
                                    {
                                        "name": "product_name"
                                    },
                                    {
                                        "name": "category"
                                    },
                                    {
                                        "name": "description"
                                    },
                                    {
                                        "name": "unit_price"
                                    },
                                    {
                                        "name": "quantity"
                                    }
                                ]
                            },
                            "data": [
                                {
                                    "id_sale": "1",
                                    "date_sale": "2023-12-15",
                                    "date_creation": "2023-11-18",
                                    "customer_name": "Zoey Campbell",
                                    "continent_created": "Europe",
                                    "continent": "America",
                                    "country": "Brasil",
                                    "product_name": "Free Run",
                                    "category": "Free",
                                    "description": "Created",
                                    "unit_price": "115.000000",
                                    "quantity": "12"
                                },
                                {
                                    "id_sale": "2",
                                    "date_sale": "2023-12-05",
                                    "date_creation": "2023-11-29",
                                    "customer_name": "Emily Parker",
                                    "continent_created": "Asia",
                                    "continent": "Asia",
                                    "country": "Japan",
                                    "product_name": "React Element",
                                    "category": "React",
                                    "description": "Processed",
                                    "unit_price": "150.000000",
                                    "quantity": "11"
                                },
                                {
                                    "id_sale": "3",
                                    "date_sale": "2023-10-29",
                                    "date_creation": "2023-11-20",
                                    "customer_name": "Noah Miller",
                                    "continent_created": "America",
                                    "continent": "Africa",
                                    "country": "Egypt",
                                    "product_name": "Air Jordan 3",
                                    "category": "Jordan",
                                    "description": "Fulfilled",
                                    "unit_price": "215.000000",
                                    "quantity": "8"
                                },
                                {
                                    "id_sale": "4",
                                    "date_sale": "2023-11-20",
                                    "date_creation": "2023-11-12",
                                    "customer_name": "Jack Evans",
                                    "continent_created": "Australia",
                                    "continent": "Europe",
                                    "country": "Germany",
                                    "product_name": "SB Janoski",
                                    "category": "SB",
                                    "description": "Returned",
                                    "unit_price": "95.000000",
                                    "quantity": "9"
                                },
                                {
                                    "id_sale": "5",
                                    "date_sale": "2023-12-17",
                                    "date_creation": "2023-10-31",
                                    "customer_name": "Madison King",
                                    "continent_created": "America",
                                    "continent": "Asia",
                                    "country": "Japan",
                                    "product_name": "Air Jordan 1",
                                    "category": "Jordan",
                                    "description": "Cancelled",
                                    "unit_price": "175.000000",
                                    "quantity": "13"
                                }
                            ]
                        },
                        "text/html": "<table><tr><th>id_sale</th><th>date_sale</th><th>date_creation</th><th>customer_name</th><th>continent_created</th><th>continent</th><th>country</th><th>product_name</th><th>category</th><th>description</th><th>unit_price</th><th>quantity</th></tr><tr><td>1</td><td>2023-12-15</td><td>2023-11-18</td><td>Zoey Campbell</td><td>Europe</td><td>America</td><td>Brasil</td><td>Free Run</td><td>Free</td><td>Created</td><td>115.000000</td><td>12</td></tr><tr><td>2</td><td>2023-12-05</td><td>2023-11-29</td><td>Emily Parker</td><td>Asia</td><td>Asia</td><td>Japan</td><td>React Element</td><td>React</td><td>Processed</td><td>150.000000</td><td>11</td></tr><tr><td>3</td><td>2023-10-29</td><td>2023-11-20</td><td>Noah Miller</td><td>America</td><td>Africa</td><td>Egypt</td><td>Air Jordan 3</td><td>Jordan</td><td>Fulfilled</td><td>215.000000</td><td>8</td></tr><tr><td>4</td><td>2023-11-20</td><td>2023-11-12</td><td>Jack Evans</td><td>Australia</td><td>Europe</td><td>Germany</td><td>SB Janoski</td><td>SB</td><td>Returned</td><td>95.000000</td><td>9</td></tr><tr><td>5</td><td>2023-12-17</td><td>2023-10-31</td><td>Madison King</td><td>America</td><td>Asia</td><td>Japan</td><td>Air Jordan 1</td><td>Jordan</td><td>Cancelled</td><td>175.000000</td><td>13</td></tr></table>"
                    },
                    "metadata": {}
                }
            ],
            "execution_count": 201
        },
        {
            "cell_type": "markdown",
            "source": [
                "¿Cuál es la distribución geográfica de las ventas de productos Nike durante el último trimestre del año <span style=\"color: #09885a;\">2023</span>?"
            ],
            "metadata": {
                "language": "sql",
                "azdata_cell_guid": "a64dcd02-9ffe-430e-b923-2c4a371877e3"
            },
            "attachments": {}
        },
        {
            "cell_type": "code",
            "source": [
                "SELECT \r\n",
                "    country\r\n",
                "    ,SUM(unit_price) * SUM(quantity) AS Ventas\r\n",
                "FROM VIZ_SALES \r\n",
                "GROUP BY \r\n",
                "    country\r\n",
                ""
            ],
            "metadata": {
                "language": "sql",
                "azdata_cell_guid": "5450aa02-1c9c-44ee-accc-33d25644b521"
            },
            "outputs": [
                {
                    "output_type": "display_data",
                    "data": {
                        "text/html": "(9 rows affected)"
                    },
                    "metadata": {}
                },
                {
                    "output_type": "display_data",
                    "data": {
                        "text/html": "Total execution time: 00:00:00.050"
                    },
                    "metadata": {}
                },
                {
                    "output_type": "execute_result",
                    "execution_count": 202,
                    "data": {
                        "application/vnd.dataresource+json": {
                            "schema": {
                                "fields": [
                                    {
                                        "name": "country"
                                    },
                                    {
                                        "name": "Ventas"
                                    }
                                ]
                            },
                            "data": [
                                {
                                    "country": "Australia",
                                    "Ventas": "877200.000000"
                                },
                                {
                                    "country": "Brasil",
                                    "Ventas": "1829610.000000"
                                },
                                {
                                    "country": "Egypt",
                                    "Ventas": "549600.000000"
                                },
                                {
                                    "country": "Germany",
                                    "Ventas": "988900.000000"
                                },
                                {
                                    "country": "Japan",
                                    "Ventas": "860720.000000"
                                },
                                {
                                    "country": "Mexico",
                                    "Ventas": "1362270.000000"
                                },
                                {
                                    "country": "New Zeland",
                                    "Ventas": "6649810.000000"
                                },
                                {
                                    "country": "South Korea",
                                    "Ventas": "1833150.000000"
                                },
                                {
                                    "country": "United Kingdom",
                                    "Ventas": "403000.000000"
                                }
                            ]
                        },
                        "text/html": "<table><tr><th>country</th><th>Ventas</th></tr><tr><td>Australia</td><td>877200.000000</td></tr><tr><td>Brasil</td><td>1829610.000000</td></tr><tr><td>Egypt</td><td>549600.000000</td></tr><tr><td>Germany</td><td>988900.000000</td></tr><tr><td>Japan</td><td>860720.000000</td></tr><tr><td>Mexico</td><td>1362270.000000</td></tr><tr><td>New Zeland</td><td>6649810.000000</td></tr><tr><td>South Korea</td><td>1833150.000000</td></tr><tr><td>United Kingdom</td><td>403000.000000</td></tr></table>"
                    },
                    "metadata": {}
                }
            ],
            "execution_count": 202
        },
        {
            "cell_type": "markdown",
            "source": [
                "¿Cuál es el producto más vendido por país y por mes en el 2023?"
            ],
            "metadata": {
                "language": "sql",
                "azdata_cell_guid": "07c50fc7-3dfb-4ba2-8749-8fc5113c5fbf"
            },
            "attachments": {}
        },
        {
            "cell_type": "code",
            "source": [
                "WITH TGNR AS (\r\n",
                "    SELECT \r\n",
                "        MONTH(date_sale) AS [Numero mes],\r\n",
                "        country,\r\n",
                "        product_name,\r\n",
                "        SUM(quantity) AS [Unidades vendidas],\r\n",
                "        SUM(unit_price * quantity) AS VentasTotales,\r\n",
                "        ROW_NUMBER() OVER (PARTITION BY MONTH(date_sale),country ORDER BY SUM(unit_price * quantity) DESC) AS Rank\r\n",
                "    FROM VIZ_SALES\r\n",
                "    GROUP BY \r\n",
                "        product_name,\r\n",
                "        MONTH(date_sale),\r\n",
                "        country\r\n",
                ")\r\n",
                "SELECT \r\n",
                "    [Numero mes],\r\n",
                "    country,\r\n",
                "    product_name,\r\n",
                "    VentasTotales AS Ventas,\r\n",
                "    [Unidades vendidas]\r\n",
                "FROM TGNR\r\n",
                "WHERE Rank = 1\r\n",
                "ORDER BY [Numero mes]\r\n",
                ""
            ],
            "metadata": {
                "language": "sql",
                "azdata_cell_guid": "c0300897-9b67-4af2-93ab-f3e62d9f093a"
            },
            "outputs": [
                {
                    "output_type": "display_data",
                    "data": {
                        "text/html": "(27 rows affected)"
                    },
                    "metadata": {}
                },
                {
                    "output_type": "display_data",
                    "data": {
                        "text/html": "Total execution time: 00:00:00.054"
                    },
                    "metadata": {}
                },
                {
                    "output_type": "execute_result",
                    "execution_count": 203,
                    "data": {
                        "application/vnd.dataresource+json": {
                            "schema": {
                                "fields": [
                                    {
                                        "name": "Numero mes"
                                    },
                                    {
                                        "name": "country"
                                    },
                                    {
                                        "name": "product_name"
                                    },
                                    {
                                        "name": "Ventas"
                                    },
                                    {
                                        "name": "Unidades vendidas"
                                    }
                                ]
                            },
                            "data": [
                                {
                                    "Numero mes": "10",
                                    "country": "Australia",
                                    "product_name": "Air Max 95",
                                    "Ventas": "4095.000000",
                                    "Unidades vendidas": "21"
                                },
                                {
                                    "Numero mes": "10",
                                    "country": "Brasil",
                                    "product_name": "Air Jordan 3",
                                    "Ventas": "3225.000000",
                                    "Unidades vendidas": "15"
                                },
                                {
                                    "Numero mes": "10",
                                    "country": "Egypt",
                                    "product_name": "Nike x Sacai LDWaffle",
                                    "Ventas": "2090.000000",
                                    "Unidades vendidas": "11"
                                },
                                {
                                    "Numero mes": "10",
                                    "country": "Germany",
                                    "product_name": "Air Jordan 4",
                                    "Ventas": "4085.000000",
                                    "Unidades vendidas": "19"
                                },
                                {
                                    "Numero mes": "10",
                                    "country": "Japan",
                                    "product_name": "Air Max 90",
                                    "Ventas": "2100.000000",
                                    "Unidades vendidas": "15"
                                },
                                {
                                    "Numero mes": "10",
                                    "country": "Mexico",
                                    "product_name": "Air Max Plus",
                                    "Ventas": "3500.000000",
                                    "Unidades vendidas": "20"
                                },
                                {
                                    "Numero mes": "10",
                                    "country": "New Zeland",
                                    "product_name": "Travis Scott x Nike Air Jordan 1",
                                    "Ventas": "2750.000000",
                                    "Unidades vendidas": "10"
                                },
                                {
                                    "Numero mes": "10",
                                    "country": "South Korea",
                                    "product_name": "Air Max 95",
                                    "Ventas": "5850.000000",
                                    "Unidades vendidas": "30"
                                },
                                {
                                    "Numero mes": "10",
                                    "country": "United Kingdom",
                                    "product_name": "Air Max Plus",
                                    "Ventas": "2275.000000",
                                    "Unidades vendidas": "13"
                                },
                                {
                                    "Numero mes": "11",
                                    "country": "Australia",
                                    "product_name": "Air Jordan 3",
                                    "Ventas": "6020.000000",
                                    "Unidades vendidas": "28"
                                },
                                {
                                    "Numero mes": "11",
                                    "country": "Brasil",
                                    "product_name": "Air Jordan 4",
                                    "Ventas": "4300.000000",
                                    "Unidades vendidas": "20"
                                },
                                {
                                    "Numero mes": "11",
                                    "country": "Egypt",
                                    "product_name": "Air Max 95",
                                    "Ventas": "2145.000000",
                                    "Unidades vendidas": "11"
                                },
                                {
                                    "Numero mes": "11",
                                    "country": "Germany",
                                    "product_name": "Air Max Plus",
                                    "Ventas": "2275.000000",
                                    "Unidades vendidas": "13"
                                },
                                {
                                    "Numero mes": "11",
                                    "country": "Japan",
                                    "product_name": "VaporMax",
                                    "Ventas": "1540.000000",
                                    "Unidades vendidas": "7"
                                },
                                {
                                    "Numero mes": "11",
                                    "country": "Mexico",
                                    "product_name": "Air Jordan 11",
                                    "Ventas": "3600.000000",
                                    "Unidades vendidas": "16"
                                },
                                {
                                    "Numero mes": "11",
                                    "country": "New Zeland",
                                    "product_name": "Nike x Sacai LDWaffle",
                                    "Ventas": "6270.000000",
                                    "Unidades vendidas": "33"
                                },
                                {
                                    "Numero mes": "11",
                                    "country": "South Korea",
                                    "product_name": "Travis Scott x Nike Air Jordan 1",
                                    "Ventas": "4125.000000",
                                    "Unidades vendidas": "15"
                                },
                                {
                                    "Numero mes": "11",
                                    "country": "United Kingdom",
                                    "product_name": "Off-White Nike Air Force ",
                                    "Ventas": "2800.000000",
                                    "Unidades vendidas": "14"
                                },
                                {
                                    "Numero mes": "12",
                                    "country": "Australia",
                                    "product_name": "Air Max Plus",
                                    "Ventas": "4025.000000",
                                    "Unidades vendidas": "23"
                                },
                                {
                                    "Numero mes": "12",
                                    "country": "Brasil",
                                    "product_name": "Air Max 270",
                                    "Ventas": "4025.000000",
                                    "Unidades vendidas": "23"
                                },
                                {
                                    "Numero mes": "12",
                                    "country": "Egypt",
                                    "product_name": "Air Jordan 4",
                                    "Ventas": "2365.000000",
                                    "Unidades vendidas": "11"
                                },
                                {
                                    "Numero mes": "12",
                                    "country": "Germany",
                                    "product_name": "Air Jordan 11",
                                    "Ventas": "6300.000000",
                                    "Unidades vendidas": "28"
                                },
                                {
                                    "Numero mes": "12",
                                    "country": "Japan",
                                    "product_name": "Air Max 270",
                                    "Ventas": "2975.000000",
                                    "Unidades vendidas": "17"
                                },
                                {
                                    "Numero mes": "12",
                                    "country": "Mexico",
                                    "product_name": "Air Max 90",
                                    "Ventas": "3500.000000",
                                    "Unidades vendidas": "25"
                                },
                                {
                                    "Numero mes": "12",
                                    "country": "New Zeland",
                                    "product_name": "Air Max 95",
                                    "Ventas": "6435.000000",
                                    "Unidades vendidas": "33"
                                },
                                {
                                    "Numero mes": "12",
                                    "country": "South Korea",
                                    "product_name": "VaporMax",
                                    "Ventas": "4180.000000",
                                    "Unidades vendidas": "19"
                                },
                                {
                                    "Numero mes": "12",
                                    "country": "United Kingdom",
                                    "product_name": "Air Max 270",
                                    "Ventas": "4200.000000",
                                    "Unidades vendidas": "24"
                                }
                            ]
                        },
                        "text/html": "<table><tr><th>Numero mes</th><th>country</th><th>product_name</th><th>Ventas</th><th>Unidades vendidas</th></tr><tr><td>10</td><td>Australia</td><td>Air Max 95</td><td>4095.000000</td><td>21</td></tr><tr><td>10</td><td>Brasil</td><td>Air Jordan 3</td><td>3225.000000</td><td>15</td></tr><tr><td>10</td><td>Egypt</td><td>Nike x Sacai LDWaffle</td><td>2090.000000</td><td>11</td></tr><tr><td>10</td><td>Germany</td><td>Air Jordan 4</td><td>4085.000000</td><td>19</td></tr><tr><td>10</td><td>Japan</td><td>Air Max 90</td><td>2100.000000</td><td>15</td></tr><tr><td>10</td><td>Mexico</td><td>Air Max Plus</td><td>3500.000000</td><td>20</td></tr><tr><td>10</td><td>New Zeland</td><td>Travis Scott x Nike Air Jordan 1</td><td>2750.000000</td><td>10</td></tr><tr><td>10</td><td>South Korea</td><td>Air Max 95</td><td>5850.000000</td><td>30</td></tr><tr><td>10</td><td>United Kingdom</td><td>Air Max Plus</td><td>2275.000000</td><td>13</td></tr><tr><td>11</td><td>Australia</td><td>Air Jordan 3</td><td>6020.000000</td><td>28</td></tr><tr><td>11</td><td>Brasil</td><td>Air Jordan 4</td><td>4300.000000</td><td>20</td></tr><tr><td>11</td><td>Egypt</td><td>Air Max 95</td><td>2145.000000</td><td>11</td></tr><tr><td>11</td><td>Germany</td><td>Air Max Plus</td><td>2275.000000</td><td>13</td></tr><tr><td>11</td><td>Japan</td><td>VaporMax</td><td>1540.000000</td><td>7</td></tr><tr><td>11</td><td>Mexico</td><td>Air Jordan 11</td><td>3600.000000</td><td>16</td></tr><tr><td>11</td><td>New Zeland</td><td>Nike x Sacai LDWaffle</td><td>6270.000000</td><td>33</td></tr><tr><td>11</td><td>South Korea</td><td>Travis Scott x Nike Air Jordan 1</td><td>4125.000000</td><td>15</td></tr><tr><td>11</td><td>United Kingdom</td><td>Off-White Nike Air Force </td><td>2800.000000</td><td>14</td></tr><tr><td>12</td><td>Australia</td><td>Air Max Plus</td><td>4025.000000</td><td>23</td></tr><tr><td>12</td><td>Brasil</td><td>Air Max 270</td><td>4025.000000</td><td>23</td></tr><tr><td>12</td><td>Egypt</td><td>Air Jordan 4</td><td>2365.000000</td><td>11</td></tr><tr><td>12</td><td>Germany</td><td>Air Jordan 11</td><td>6300.000000</td><td>28</td></tr><tr><td>12</td><td>Japan</td><td>Air Max 270</td><td>2975.000000</td><td>17</td></tr><tr><td>12</td><td>Mexico</td><td>Air Max 90</td><td>3500.000000</td><td>25</td></tr><tr><td>12</td><td>New Zeland</td><td>Air Max 95</td><td>6435.000000</td><td>33</td></tr><tr><td>12</td><td>South Korea</td><td>VaporMax</td><td>4180.000000</td><td>19</td></tr><tr><td>12</td><td>United Kingdom</td><td>Air Max 270</td><td>4200.000000</td><td>24</td></tr></table>"
                    },
                    "metadata": {}
                }
            ],
            "execution_count": 203
        },
        {
            "cell_type": "markdown",
            "source": [
                "¿Cuál es el cliente con más compras por país y por mes en el 2023?"
            ],
            "metadata": {
                "language": "sql",
                "azdata_cell_guid": "fe906136-a215-48cb-b8a6-5db624da1062"
            },
            "attachments": {}
        },
        {
            "cell_type": "code",
            "source": [
                "WITH VentasPorMes AS (\r\n",
                "    SELECT \r\n",
                "        MONTH(date_sale) AS [Numero mes],\r\n",
                "        country,\r\n",
                "        customer_name,\r\n",
                "        SUM(unit_price * quantity) AS VentasTotales,\r\n",
                "        ROW_NUMBER() OVER (PARTITION BY MONTH(date_sale), country ORDER BY SUM(unit_price * quantity) DESC) AS Rank\r\n",
                "    FROM VIZ_SALES\r\n",
                "    GROUP BY \r\n",
                "        country,\r\n",
                "        MONTH(date_sale),\r\n",
                "        customer_name\r\n",
                ")\r\n",
                "SELECT \r\n",
                "    [Numero mes],\r\n",
                "    country,\r\n",
                "    customer_name,\r\n",
                "    VentasTotales AS Ventas\r\n",
                "FROM VentasPorMes\r\n",
                "WHERE Rank = 1\r\n",
                "ORDER BY [Numero mes],country"
            ],
            "metadata": {
                "language": "sql",
                "azdata_cell_guid": "0955566c-ff8a-41a1-a165-e20d36a33abf"
            },
            "outputs": [
                {
                    "output_type": "display_data",
                    "data": {
                        "text/html": "(27 rows affected)"
                    },
                    "metadata": {}
                },
                {
                    "output_type": "display_data",
                    "data": {
                        "text/html": "Total execution time: 00:00:00.061"
                    },
                    "metadata": {}
                },
                {
                    "output_type": "execute_result",
                    "execution_count": 204,
                    "data": {
                        "application/vnd.dataresource+json": {
                            "schema": {
                                "fields": [
                                    {
                                        "name": "Numero mes"
                                    },
                                    {
                                        "name": "country"
                                    },
                                    {
                                        "name": "customer_name"
                                    },
                                    {
                                        "name": "Ventas"
                                    }
                                ]
                            },
                            "data": [
                                {
                                    "Numero mes": "10",
                                    "country": "Australia",
                                    "customer_name": "Evelyn Hill",
                                    "Ventas": "2975.000000"
                                },
                                {
                                    "Numero mes": "10",
                                    "country": "Brasil",
                                    "customer_name": "Hailey Phillips",
                                    "Ventas": "2580.000000"
                                },
                                {
                                    "Numero mes": "10",
                                    "country": "Egypt",
                                    "customer_name": "Noah Miller",
                                    "Ventas": "3770.000000"
                                },
                                {
                                    "Numero mes": "10",
                                    "country": "Germany",
                                    "customer_name": "Jack Evans",
                                    "Ventas": "5175.000000"
                                },
                                {
                                    "Numero mes": "10",
                                    "country": "Japan",
                                    "customer_name": "Charlotte Wilson",
                                    "Ventas": "4365.000000"
                                },
                                {
                                    "Numero mes": "10",
                                    "country": "Mexico",
                                    "customer_name": "Ethan Carter",
                                    "Ventas": "6535.000000"
                                },
                                {
                                    "Numero mes": "10",
                                    "country": "New Zeland",
                                    "customer_name": "Levi Kelly",
                                    "Ventas": "4860.000000"
                                },
                                {
                                    "Numero mes": "10",
                                    "country": "South Korea",
                                    "customer_name": "Chloe Price",
                                    "Ventas": "4900.000000"
                                },
                                {
                                    "Numero mes": "10",
                                    "country": "United Kingdom",
                                    "customer_name": "Lucas Lee",
                                    "Ventas": "3900.000000"
                                },
                                {
                                    "Numero mes": "11",
                                    "country": "Australia",
                                    "customer_name": "Luke Baker",
                                    "Ventas": "4585.000000"
                                },
                                {
                                    "Numero mes": "11",
                                    "country": "Brasil",
                                    "customer_name": "Riley Martinez",
                                    "Ventas": "5560.000000"
                                },
                                {
                                    "Numero mes": "11",
                                    "country": "Egypt",
                                    "customer_name": "Grace Adams",
                                    "Ventas": "2395.000000"
                                },
                                {
                                    "Numero mes": "11",
                                    "country": "Germany",
                                    "customer_name": "Sophia Harris",
                                    "Ventas": "5225.000000"
                                },
                                {
                                    "Numero mes": "11",
                                    "country": "Japan",
                                    "customer_name": "Harper Foster",
                                    "Ventas": "2575.000000"
                                },
                                {
                                    "Numero mes": "11",
                                    "country": "Mexico",
                                    "customer_name": "Hannah Wright",
                                    "Ventas": "5095.000000"
                                },
                                {
                                    "Numero mes": "11",
                                    "country": "New Zeland",
                                    "customer_name": "Owen Turner",
                                    "Ventas": "6985.000000"
                                },
                                {
                                    "Numero mes": "11",
                                    "country": "South Korea",
                                    "customer_name": "Chloe Price",
                                    "Ventas": "5970.000000"
                                },
                                {
                                    "Numero mes": "11",
                                    "country": "United Kingdom",
                                    "customer_name": "Aiden Martinez",
                                    "Ventas": "4875.000000"
                                },
                                {
                                    "Numero mes": "12",
                                    "country": "Australia",
                                    "customer_name": "Landon Green",
                                    "Ventas": "4625.000000"
                                },
                                {
                                    "Numero mes": "12",
                                    "country": "Brasil",
                                    "customer_name": "Riley Martinez",
                                    "Ventas": "8010.000000"
                                },
                                {
                                    "Numero mes": "12",
                                    "country": "Egypt",
                                    "customer_name": "Carter Reed",
                                    "Ventas": "2470.000000"
                                },
                                {
                                    "Numero mes": "12",
                                    "country": "Germany",
                                    "customer_name": "Connor Johnson",
                                    "Ventas": "4450.000000"
                                },
                                {
                                    "Numero mes": "12",
                                    "country": "Japan",
                                    "customer_name": "Madison King",
                                    "Ventas": "5285.000000"
                                },
                                {
                                    "Numero mes": "12",
                                    "country": "Mexico",
                                    "customer_name": "Amelia Thompson",
                                    "Ventas": "9435.000000"
                                },
                                {
                                    "Numero mes": "12",
                                    "country": "New Zeland",
                                    "customer_name": "Owen Turner",
                                    "Ventas": "6110.000000"
                                },
                                {
                                    "Numero mes": "12",
                                    "country": "South Korea",
                                    "customer_name": "Natalie Morris",
                                    "Ventas": "5815.000000"
                                },
                                {
                                    "Numero mes": "12",
                                    "country": "United Kingdom",
                                    "customer_name": "James Martin",
                                    "Ventas": "6045.000000"
                                }
                            ]
                        },
                        "text/html": "<table><tr><th>Numero mes</th><th>country</th><th>customer_name</th><th>Ventas</th></tr><tr><td>10</td><td>Australia</td><td>Evelyn Hill</td><td>2975.000000</td></tr><tr><td>10</td><td>Brasil</td><td>Hailey Phillips</td><td>2580.000000</td></tr><tr><td>10</td><td>Egypt</td><td>Noah Miller</td><td>3770.000000</td></tr><tr><td>10</td><td>Germany</td><td>Jack Evans</td><td>5175.000000</td></tr><tr><td>10</td><td>Japan</td><td>Charlotte Wilson</td><td>4365.000000</td></tr><tr><td>10</td><td>Mexico</td><td>Ethan Carter</td><td>6535.000000</td></tr><tr><td>10</td><td>New Zeland</td><td>Levi Kelly</td><td>4860.000000</td></tr><tr><td>10</td><td>South Korea</td><td>Chloe Price</td><td>4900.000000</td></tr><tr><td>10</td><td>United Kingdom</td><td>Lucas Lee</td><td>3900.000000</td></tr><tr><td>11</td><td>Australia</td><td>Luke Baker</td><td>4585.000000</td></tr><tr><td>11</td><td>Brasil</td><td>Riley Martinez</td><td>5560.000000</td></tr><tr><td>11</td><td>Egypt</td><td>Grace Adams</td><td>2395.000000</td></tr><tr><td>11</td><td>Germany</td><td>Sophia Harris</td><td>5225.000000</td></tr><tr><td>11</td><td>Japan</td><td>Harper Foster</td><td>2575.000000</td></tr><tr><td>11</td><td>Mexico</td><td>Hannah Wright</td><td>5095.000000</td></tr><tr><td>11</td><td>New Zeland</td><td>Owen Turner</td><td>6985.000000</td></tr><tr><td>11</td><td>South Korea</td><td>Chloe Price</td><td>5970.000000</td></tr><tr><td>11</td><td>United Kingdom</td><td>Aiden Martinez</td><td>4875.000000</td></tr><tr><td>12</td><td>Australia</td><td>Landon Green</td><td>4625.000000</td></tr><tr><td>12</td><td>Brasil</td><td>Riley Martinez</td><td>8010.000000</td></tr><tr><td>12</td><td>Egypt</td><td>Carter Reed</td><td>2470.000000</td></tr><tr><td>12</td><td>Germany</td><td>Connor Johnson</td><td>4450.000000</td></tr><tr><td>12</td><td>Japan</td><td>Madison King</td><td>5285.000000</td></tr><tr><td>12</td><td>Mexico</td><td>Amelia Thompson</td><td>9435.000000</td></tr><tr><td>12</td><td>New Zeland</td><td>Owen Turner</td><td>6110.000000</td></tr><tr><td>12</td><td>South Korea</td><td>Natalie Morris</td><td>5815.000000</td></tr><tr><td>12</td><td>United Kingdom</td><td>James Martin</td><td>6045.000000</td></tr></table>"
                    },
                    "metadata": {}
                }
            ],
            "execution_count": 204
        },
        {
            "cell_type": "markdown",
            "source": [
                "¿Cuál es el promedio de ventas por región o país durante el último trimestre del año 2023?"
            ],
            "metadata": {
                "language": "sql",
                "azdata_cell_guid": "ccf42041-ef10-40c9-9597-439886530736"
            },
            "attachments": {}
        },
        {
            "cell_type": "code",
            "source": [
                "WITH TGEN AS (\r\n",
                "    SELECT \r\n",
                "        continent,\r\n",
                "        country,\r\n",
                "        unit_price * quantity AS VentaTotal\r\n",
                "    FROM VIZ_SALES\r\n",
                "    WHERE YEAR(date_sale) = 2023\r\n",
                "      AND MONTH(date_sale) >= 10 \r\n",
                "      AND MONTH(date_sale) <= 12\r\n",
                ")\r\n",
                "\r\n",
                "SELECT\r\n",
                "    continent,\r\n",
                "    country,\r\n",
                "    SUM(VentaTotal) AS VentalTotal,\r\n",
                "    AVG(VentaTotal) AS PromedioVentas\r\n",
                "FROM TGEN\r\n",
                "GROUP BY \r\n",
                "    continent,\r\n",
                "    country\r\n",
                "ORDER BY \r\n",
                "    continent,\r\n",
                "    country;\r\n",
                "\r\n",
                ""
            ],
            "metadata": {
                "language": "sql",
                "azdata_cell_guid": "d715a40c-f230-4567-919b-544779afb8b4"
            },
            "outputs": [
                {
                    "output_type": "display_data",
                    "data": {
                        "text/html": "(9 rows affected)"
                    },
                    "metadata": {}
                },
                {
                    "output_type": "display_data",
                    "data": {
                        "text/html": "Total execution time: 00:00:00.051"
                    },
                    "metadata": {}
                },
                {
                    "output_type": "execute_result",
                    "execution_count": 207,
                    "data": {
                        "application/vnd.dataresource+json": {
                            "schema": {
                                "fields": [
                                    {
                                        "name": "continent"
                                    },
                                    {
                                        "name": "country"
                                    },
                                    {
                                        "name": "VentalTotal"
                                    },
                                    {
                                        "name": "PromedioVentas"
                                    }
                                ]
                            },
                            "data": [
                                {
                                    "continent": "Africa",
                                    "country": "Egypt",
                                    "VentalTotal": "23300.000000",
                                    "PromedioVentas": "1013.043478"
                                },
                                {
                                    "continent": "America",
                                    "country": "Brasil",
                                    "VentalTotal": "42860.000000",
                                    "PromedioVentas": "1020.476190"
                                },
                                {
                                    "continent": "America",
                                    "country": "Mexico",
                                    "VentalTotal": "41225.000000",
                                    "PromedioVentas": "1288.281250"
                                },
                                {
                                    "continent": "Asia",
                                    "country": "Japan",
                                    "VentalTotal": "31925.000000",
                                    "PromedioVentas": "1227.884615"
                                },
                                {
                                    "continent": "Asia",
                                    "country": "South Korea",
                                    "VentalTotal": "49545.000000",
                                    "PromedioVentas": "1303.815789"
                                },
                                {
                                    "continent": "Australia",
                                    "country": "Australia",
                                    "VentalTotal": "37540.000000",
                                    "PromedioVentas": "1564.166666"
                                },
                                {
                                    "continent": "Australia",
                                    "country": "New Zeland",
                                    "VentalTotal": "91700.000000",
                                    "PromedioVentas": "1291.549295"
                                },
                                {
                                    "continent": "Europe",
                                    "country": "Germany",
                                    "VentalTotal": "35065.000000",
                                    "PromedioVentas": "1298.703703"
                                },
                                {
                                    "continent": "Europe",
                                    "country": "United Kingdom",
                                    "VentalTotal": "24525.000000",
                                    "PromedioVentas": "1442.647058"
                                }
                            ]
                        },
                        "text/html": "<table><tr><th>continent</th><th>country</th><th>VentalTotal</th><th>PromedioVentas</th></tr><tr><td>Africa</td><td>Egypt</td><td>23300.000000</td><td>1013.043478</td></tr><tr><td>America</td><td>Brasil</td><td>42860.000000</td><td>1020.476190</td></tr><tr><td>America</td><td>Mexico</td><td>41225.000000</td><td>1288.281250</td></tr><tr><td>Asia</td><td>Japan</td><td>31925.000000</td><td>1227.884615</td></tr><tr><td>Asia</td><td>South Korea</td><td>49545.000000</td><td>1303.815789</td></tr><tr><td>Australia</td><td>Australia</td><td>37540.000000</td><td>1564.166666</td></tr><tr><td>Australia</td><td>New Zeland</td><td>91700.000000</td><td>1291.549295</td></tr><tr><td>Europe</td><td>Germany</td><td>35065.000000</td><td>1298.703703</td></tr><tr><td>Europe</td><td>United Kingdom</td><td>24525.000000</td><td>1442.647058</td></tr></table>"
                    },
                    "metadata": {}
                }
            ],
            "execution_count": 207
        },
        {
            "cell_type": "markdown",
            "source": [
                "¿Cuál es el producto más vendido durante el último trimestre del año 2023?"
            ],
            "metadata": {
                "language": "sql",
                "azdata_cell_guid": "41b9d374-e110-475a-af34-89083309df05"
            },
            "attachments": {}
        },
        {
            "cell_type": "code",
            "source": [
                "WITH TGEN AS (\r\n",
                "    SELECT \r\n",
                "        product_name,\r\n",
                "        SUM(unit_price * quantity) AS VentaTotal,\r\n",
                "        ROW_NUMBER() OVER (ORDER BY SUM(unit_price * quantity) DESC) AS Rank\r\n",
                "    FROM VIZ_SALES\r\n",
                "    WHERE YEAR(date_sale) = 2023\r\n",
                "      AND MONTH(date_sale) >= 10 -- Último trimestre: meses 10, 11 y 12\r\n",
                "      AND MONTH(date_sale) <= 12\r\n",
                "    GROUP BY \r\n",
                "        product_name\r\n",
                ")\r\n",
                "\r\n",
                "SELECT\r\n",
                "    product_name,\r\n",
                "    VentaTotal\r\n",
                "FROM TGEN\r\n",
                "WHERE Rank = 1\r\n",
                "ORDER BY \r\n",
                "    VentaTotal DESC"
            ],
            "metadata": {
                "language": "sql",
                "azdata_cell_guid": "6e638b2e-1cd3-4274-b7d0-b22309b9b4ed"
            },
            "outputs": [
                {
                    "output_type": "display_data",
                    "data": {
                        "text/html": "(1 row affected)"
                    },
                    "metadata": {}
                },
                {
                    "output_type": "display_data",
                    "data": {
                        "text/html": "Total execution time: 00:00:00.060"
                    },
                    "metadata": {}
                },
                {
                    "output_type": "execute_result",
                    "execution_count": 208,
                    "data": {
                        "application/vnd.dataresource+json": {
                            "schema": {
                                "fields": [
                                    {
                                        "name": "product_name"
                                    },
                                    {
                                        "name": "VentaTotal"
                                    }
                                ]
                            },
                            "data": [
                                {
                                    "product_name": "Air Max 95",
                                    "VentaTotal": "33735.000000"
                                }
                            ]
                        },
                        "text/html": "<table><tr><th>product_name</th><th>VentaTotal</th></tr><tr><td>Air Max 95</td><td>33735.000000</td></tr></table>"
                    },
                    "metadata": {}
                }
            ],
            "execution_count": 208
        },
        {
            "cell_type": "markdown",
            "source": [
                "¿Cuál es el cliente con más compras durante el último trimestre del año 2023?"
            ],
            "metadata": {
                "language": "sql",
                "azdata_cell_guid": "c0f784b6-761d-4dd5-92c6-66db290795e8"
            },
            "attachments": {}
        },
        {
            "cell_type": "code",
            "source": [
                "WITH TGEN AS (\r\n",
                "    SELECT \r\n",
                "        customer_name,\r\n",
                "        SUM(unit_price * quantity) AS VentaTotal,\r\n",
                "        ROW_NUMBER() OVER (ORDER BY SUM(unit_price * quantity) DESC) AS Rank\r\n",
                "    FROM VIZ_SALES\r\n",
                "    WHERE YEAR(date_sale) = 2023\r\n",
                "      AND MONTH(date_sale) >= 10 -- Último trimestre: meses 10, 11 y 12\r\n",
                "      AND MONTH(date_sale) <= 12\r\n",
                "    GROUP BY \r\n",
                "        customer_name\r\n",
                ")\r\n",
                "\r\n",
                "SELECT\r\n",
                "    customer_name,\r\n",
                "    VentaTotal\r\n",
                "FROM TGEN\r\n",
                "WHERE Rank = 1\r\n",
                "ORDER BY \r\n",
                "    VentaTotal DESC"
            ],
            "metadata": {
                "language": "sql",
                "azdata_cell_guid": "d74b3fe8-a131-465b-887c-e727bee2150d"
            },
            "outputs": [
                {
                    "output_type": "display_data",
                    "data": {
                        "text/html": "(1 row affected)"
                    },
                    "metadata": {}
                },
                {
                    "output_type": "display_data",
                    "data": {
                        "text/html": "Total execution time: 00:00:00.161"
                    },
                    "metadata": {}
                },
                {
                    "output_type": "execute_result",
                    "execution_count": 209,
                    "data": {
                        "application/vnd.dataresource+json": {
                            "schema": {
                                "fields": [
                                    {
                                        "name": "customer_name"
                                    },
                                    {
                                        "name": "VentaTotal"
                                    }
                                ]
                            },
                            "data": [
                                {
                                    "customer_name": "Riley Martinez",
                                    "VentaTotal": "14215.000000"
                                }
                            ]
                        },
                        "text/html": "<table><tr><th>customer_name</th><th>VentaTotal</th></tr><tr><td>Riley Martinez</td><td>14215.000000</td></tr></table>"
                    },
                    "metadata": {}
                }
            ],
            "execution_count": 209
        },
        {
            "cell_type": "markdown",
            "source": [
                "¿Cuál es el promedio de cantidad de productos comprados por cliente?"
            ],
            "metadata": {
                "language": "sql",
                "azdata_cell_guid": "f56b60b6-cf6f-467e-967d-f06f93ad5ca0"
            },
            "attachments": {}
        },
        {
            "cell_type": "code",
            "source": [
                "    SELECT \r\n",
                "        customer_name,\r\n",
                "        AVG(quantity) AS [%Promedio],\r\n",
                "        SUM(quantity) AS [Total_unidades]\r\n",
                "    FROM VIZ_SALES\r\n",
                "    WHERE YEAR(date_sale) = 2023\r\n",
                "      AND MONTH(date_sale) >= 10 -- Último trimestre: meses 10, 11 y 12\r\n",
                "      AND MONTH(date_sale) <= 12\r\n",
                "    GROUP BY \r\n",
                "        customer_name\r\n",
                "    ORDER BY \r\n",
                "        AVG(quantity) DESC"
            ],
            "metadata": {
                "language": "sql",
                "azdata_cell_guid": "feb43918-af86-42d3-84d2-24d783eb99fe",
                "tags": []
            },
            "outputs": [
                {
                    "output_type": "display_data",
                    "data": {
                        "text/html": "(47 rows affected)"
                    },
                    "metadata": {}
                },
                {
                    "output_type": "display_data",
                    "data": {
                        "text/html": "Total execution time: 00:00:00.065"
                    },
                    "metadata": {}
                },
                {
                    "output_type": "execute_result",
                    "execution_count": 212,
                    "data": {
                        "application/vnd.dataresource+json": {
                            "schema": {
                                "fields": [
                                    {
                                        "name": "customer_name"
                                    },
                                    {
                                        "name": "%Promedio"
                                    },
                                    {
                                        "name": "Total_unidades"
                                    }
                                ]
                            },
                            "data": [
                                {
                                    "customer_name": "Avery Nelson",
                                    "%Promedio": "15",
                                    "Total_unidades": "15"
                                },
                                {
                                    "customer_name": "Austin Cooper",
                                    "%Promedio": "10",
                                    "Total_unidades": "64"
                                },
                                {
                                    "customer_name": "Hannah Wright",
                                    "%Promedio": "10",
                                    "Total_unidades": "72"
                                },
                                {
                                    "customer_name": "Jack Evans",
                                    "%Promedio": "10",
                                    "Total_unidades": "73"
                                },
                                {
                                    "customer_name": "Luke Baker",
                                    "%Promedio": "10",
                                    "Total_unidades": "60"
                                },
                                {
                                    "customer_name": "Owen Turner",
                                    "%Promedio": "10",
                                    "Total_unidades": "87"
                                },
                                {
                                    "customer_name": "Peyton Morris",
                                    "%Promedio": "10",
                                    "Total_unidades": "80"
                                },
                                {
                                    "customer_name": "Riley Martinez",
                                    "%Promedio": "9",
                                    "Total_unidades": "77"
                                },
                                {
                                    "customer_name": "Scarlett Turner",
                                    "%Promedio": "9",
                                    "Total_unidades": "18"
                                },
                                {
                                    "customer_name": "Lucas Lee",
                                    "%Promedio": "9",
                                    "Total_unidades": "56"
                                },
                                {
                                    "customer_name": "Madison King",
                                    "%Promedio": "9",
                                    "Total_unidades": "29"
                                },
                                {
                                    "customer_name": "Harper Foster",
                                    "%Promedio": "9",
                                    "Total_unidades": "65"
                                },
                                {
                                    "customer_name": "Isaac Mitchell",
                                    "%Promedio": "9",
                                    "Total_unidades": "18"
                                },
                                {
                                    "customer_name": "James Martin",
                                    "%Promedio": "9",
                                    "Total_unidades": "45"
                                },
                                {
                                    "customer_name": "Landon Green",
                                    "%Promedio": "9",
                                    "Total_unidades": "47"
                                },
                                {
                                    "customer_name": "Aiden Martinez",
                                    "%Promedio": "9",
                                    "Total_unidades": "54"
                                },
                                {
                                    "customer_name": "Chloe Price",
                                    "%Promedio": "9",
                                    "Total_unidades": "68"
                                },
                                {
                                    "customer_name": "Ella Walker",
                                    "%Promedio": "9",
                                    "Total_unidades": "73"
                                },
                                {
                                    "customer_name": "Ethan Carter",
                                    "%Promedio": "8",
                                    "Total_unidades": "66"
                                },
                                {
                                    "customer_name": "Evelyn Hill",
                                    "%Promedio": "8",
                                    "Total_unidades": "57"
                                },
                                {
                                    "customer_name": "Amelia Thompson",
                                    "%Promedio": "8",
                                    "Total_unidades": "82"
                                },
                                {
                                    "customer_name": "Charlotte Wilson",
                                    "%Promedio": "8",
                                    "Total_unidades": "70"
                                },
                                {
                                    "customer_name": "Mason Taylor",
                                    "%Promedio": "8",
                                    "Total_unidades": "79"
                                },
                                {
                                    "customer_name": "Jackson Foster",
                                    "%Promedio": "8",
                                    "Total_unidades": "35"
                                },
                                {
                                    "customer_name": "Noah Miller",
                                    "%Promedio": "8",
                                    "Total_unidades": "49"
                                },
                                {
                                    "customer_name": "Olivia Smith",
                                    "%Promedio": "7",
                                    "Total_unidades": "58"
                                },
                                {
                                    "customer_name": "William White",
                                    "%Promedio": "7",
                                    "Total_unidades": "70"
                                },
                                {
                                    "customer_name": "Natalie Morris",
                                    "%Promedio": "7",
                                    "Total_unidades": "87"
                                },
                                {
                                    "customer_name": "Nathan Turner",
                                    "%Promedio": "7",
                                    "Total_unidades": "60"
                                },
                                {
                                    "customer_name": "Levi Kelly",
                                    "%Promedio": "7",
                                    "Total_unidades": "87"
                                },
                                {
                                    "customer_name": "Isabella Clark",
                                    "%Promedio": "7",
                                    "Total_unidades": "53"
                                },
                                {
                                    "customer_name": "Audrey Murphy",
                                    "%Promedio": "7",
                                    "Total_unidades": "47"
                                },
                                {
                                    "customer_name": "Carter Reed",
                                    "%Promedio": "7",
                                    "Total_unidades": "39"
                                },
                                {
                                    "customer_name": "Grace Adams",
                                    "%Promedio": "7",
                                    "Total_unidades": "30"
                                },
                                {
                                    "customer_name": "Anna Sullivan",
                                    "%Promedio": "6",
                                    "Total_unidades": "60"
                                },
                                {
                                    "customer_name": "Ava Anderson",
                                    "%Promedio": "6",
                                    "Total_unidades": "60"
                                },
                                {
                                    "customer_name": "Logan Baker",
                                    "%Promedio": "6",
                                    "Total_unidades": "40"
                                },
                                {
                                    "customer_name": "Sophia Harris",
                                    "%Promedio": "6",
                                    "Total_unidades": "30"
                                },
                                {
                                    "customer_name": "Grayson Reed",
                                    "%Promedio": "5",
                                    "Total_unidades": "41"
                                },
                                {
                                    "customer_name": "Hailey Phillips",
                                    "%Promedio": "5",
                                    "Total_unidades": "35"
                                },
                                {
                                    "customer_name": "Connor Johnson",
                                    "%Promedio": "5",
                                    "Total_unidades": "35"
                                },
                                {
                                    "customer_name": "Emily Parker",
                                    "%Promedio": "4",
                                    "Total_unidades": "33"
                                },
                                {
                                    "customer_name": "Lily Phillips",
                                    "%Promedio": "4",
                                    "Total_unidades": "29"
                                },
                                {
                                    "customer_name": "Liam Brown",
                                    "%Promedio": "3",
                                    "Total_unidades": "17"
                                },
                                {
                                    "customer_name": "Zoey Campbell",
                                    "%Promedio": "3",
                                    "Total_unidades": "24"
                                },
                                {
                                    "customer_name": "Samantha Hall",
                                    "%Promedio": "2",
                                    "Total_unidades": "2"
                                },
                                {
                                    "customer_name": "Madeline Collins",
                                    "%Promedio": "1",
                                    "Total_unidades": "1"
                                }
                            ]
                        },
                        "text/html": "<table><tr><th>customer_name</th><th>%Promedio</th><th>Total_unidades</th></tr><tr><td>Avery Nelson</td><td>15</td><td>15</td></tr><tr><td>Austin Cooper</td><td>10</td><td>64</td></tr><tr><td>Hannah Wright</td><td>10</td><td>72</td></tr><tr><td>Jack Evans</td><td>10</td><td>73</td></tr><tr><td>Luke Baker</td><td>10</td><td>60</td></tr><tr><td>Owen Turner</td><td>10</td><td>87</td></tr><tr><td>Peyton Morris</td><td>10</td><td>80</td></tr><tr><td>Riley Martinez</td><td>9</td><td>77</td></tr><tr><td>Scarlett Turner</td><td>9</td><td>18</td></tr><tr><td>Lucas Lee</td><td>9</td><td>56</td></tr><tr><td>Madison King</td><td>9</td><td>29</td></tr><tr><td>Harper Foster</td><td>9</td><td>65</td></tr><tr><td>Isaac Mitchell</td><td>9</td><td>18</td></tr><tr><td>James Martin</td><td>9</td><td>45</td></tr><tr><td>Landon Green</td><td>9</td><td>47</td></tr><tr><td>Aiden Martinez</td><td>9</td><td>54</td></tr><tr><td>Chloe Price</td><td>9</td><td>68</td></tr><tr><td>Ella Walker</td><td>9</td><td>73</td></tr><tr><td>Ethan Carter</td><td>8</td><td>66</td></tr><tr><td>Evelyn Hill</td><td>8</td><td>57</td></tr><tr><td>Amelia Thompson</td><td>8</td><td>82</td></tr><tr><td>Charlotte Wilson</td><td>8</td><td>70</td></tr><tr><td>Mason Taylor</td><td>8</td><td>79</td></tr><tr><td>Jackson Foster</td><td>8</td><td>35</td></tr><tr><td>Noah Miller</td><td>8</td><td>49</td></tr><tr><td>Olivia Smith</td><td>7</td><td>58</td></tr><tr><td>William White</td><td>7</td><td>70</td></tr><tr><td>Natalie Morris</td><td>7</td><td>87</td></tr><tr><td>Nathan Turner</td><td>7</td><td>60</td></tr><tr><td>Levi Kelly</td><td>7</td><td>87</td></tr><tr><td>Isabella Clark</td><td>7</td><td>53</td></tr><tr><td>Audrey Murphy</td><td>7</td><td>47</td></tr><tr><td>Carter Reed</td><td>7</td><td>39</td></tr><tr><td>Grace Adams</td><td>7</td><td>30</td></tr><tr><td>Anna Sullivan</td><td>6</td><td>60</td></tr><tr><td>Ava Anderson</td><td>6</td><td>60</td></tr><tr><td>Logan Baker</td><td>6</td><td>40</td></tr><tr><td>Sophia Harris</td><td>6</td><td>30</td></tr><tr><td>Grayson Reed</td><td>5</td><td>41</td></tr><tr><td>Hailey Phillips</td><td>5</td><td>35</td></tr><tr><td>Connor Johnson</td><td>5</td><td>35</td></tr><tr><td>Emily Parker</td><td>4</td><td>33</td></tr><tr><td>Lily Phillips</td><td>4</td><td>29</td></tr><tr><td>Liam Brown</td><td>3</td><td>17</td></tr><tr><td>Zoey Campbell</td><td>3</td><td>24</td></tr><tr><td>Samantha Hall</td><td>2</td><td>2</td></tr><tr><td>Madeline Collins</td><td>1</td><td>1</td></tr></table>"
                    },
                    "metadata": {}
                }
            ],
            "execution_count": 212
        },
        {
            "cell_type": "markdown",
            "source": [
                "¿Existe alguna tendencia de ventas en función del día de la semana?"
            ],
            "metadata": {
                "language": "sql",
                "azdata_cell_guid": "ccd30973-029b-43d3-b56b-eb359e79635a"
            },
            "attachments": {}
        },
        {
            "cell_type": "code",
            "source": [
                "WITH TGNR AS \r\n",
                "            (SELECT\r\n",
                "                DiaSemana,\r\n",
                "                ISNULL([10], 0) AS Octubre,\r\n",
                "                ISNULL([11], 0) AS Noviembre,\r\n",
                "                ISNULL([12], 0) AS Diciembre\r\n",
                "            FROM (\r\n",
                "                SELECT\r\n",
                "                    DATEPART(dw, date_sale) AS DiaSemana,\r\n",
                "                    MONTH(date_sale) AS Mes,\r\n",
                "                    SUM(quantity * unit_price) AS TotalVenta\r\n",
                "                FROM VIZ_SALES\r\n",
                "                GROUP BY\r\n",
                "                    DATEPART(dw, date_sale),\r\n",
                "                    MONTH(date_sale)\r\n",
                "            ) AS SalesPerDayOfMonth\r\n",
                "            PIVOT (\r\n",
                "                SUM(TotalVenta)\r\n",
                "                FOR Mes IN ([1], [2], [3], [4], [5], [6], [7], [8], [9], [10], [11], [12])\r\n",
                "            ) AS PivotTable\r\n",
                "            )\r\n",
                "SELECT \r\n",
                "Octubre,\r\n",
                "(Noviembre/Octubre) -1 AS [%OCTvsNOV],\r\n",
                "Noviembre,\r\n",
                "(Diciembre/Noviembre) -1 AS [%NOVvsDIV],\r\n",
                "Diciembre\r\n",
                "FROM TGNR"
            ],
            "metadata": {
                "language": "sql",
                "azdata_cell_guid": "3d881251-351f-4298-bdbd-76ced37dc172"
            },
            "outputs": [
                {
                    "output_type": "display_data",
                    "data": {
                        "text/html": "(7 rows affected)"
                    },
                    "metadata": {}
                },
                {
                    "output_type": "display_data",
                    "data": {
                        "text/html": "Total execution time: 00:00:00.071"
                    },
                    "metadata": {}
                },
                {
                    "output_type": "execute_result",
                    "execution_count": 213,
                    "data": {
                        "application/vnd.dataresource+json": {
                            "schema": {
                                "fields": [
                                    {
                                        "name": "Octubre"
                                    },
                                    {
                                        "name": "%OCTvsNOV"
                                    },
                                    {
                                        "name": "Noviembre"
                                    },
                                    {
                                        "name": "%NOVvsDIV"
                                    },
                                    {
                                        "name": "Diciembre"
                                    }
                                ]
                            },
                            "data": [
                                {
                                    "Octubre": "10640.000000",
                                    "%OCTvsNOV": "-0.362782",
                                    "Noviembre": "6780.000000",
                                    "%NOVvsDIV": "3.367994",
                                    "Diciembre": "29615.000000"
                                },
                                {
                                    "Octubre": "16730.000000",
                                    "%OCTvsNOV": "0.417812",
                                    "Noviembre": "23720.000000",
                                    "%NOVvsDIV": "-0.187817",
                                    "Diciembre": "19265.000000"
                                },
                                {
                                    "Octubre": "10815.000000",
                                    "%OCTvsNOV": "0.642163",
                                    "Noviembre": "17760.000000",
                                    "%NOVvsDIV": "0.398085",
                                    "Diciembre": "24830.000000"
                                },
                                {
                                    "Octubre": "10890.000000",
                                    "%OCTvsNOV": "1.694674",
                                    "Noviembre": "29345.000000",
                                    "%NOVvsDIV": "-0.461238",
                                    "Diciembre": "15810.000000"
                                },
                                {
                                    "Octubre": "20065.000000",
                                    "%OCTvsNOV": "-0.413158",
                                    "Noviembre": "11775.000000",
                                    "%NOVvsDIV": "0.533757",
                                    "Diciembre": "18060.000000"
                                },
                                {
                                    "Octubre": "12245.000000",
                                    "%OCTvsNOV": "0.347897",
                                    "Noviembre": "16505.000000",
                                    "%NOVvsDIV": "-0.071494",
                                    "Diciembre": "15325.000000"
                                },
                                {
                                    "Octubre": "14745.000000",
                                    "%OCTvsNOV": "-0.355036",
                                    "Noviembre": "9510.000000",
                                    "%NOVvsDIV": "3.548370",
                                    "Diciembre": "43255.000000"
                                }
                            ]
                        },
                        "text/html": "<table><tr><th>Octubre</th><th>%OCTvsNOV</th><th>Noviembre</th><th>%NOVvsDIV</th><th>Diciembre</th></tr><tr><td>10640.000000</td><td>-0.362782</td><td>6780.000000</td><td>3.367994</td><td>29615.000000</td></tr><tr><td>16730.000000</td><td>0.417812</td><td>23720.000000</td><td>-0.187817</td><td>19265.000000</td></tr><tr><td>10815.000000</td><td>0.642163</td><td>17760.000000</td><td>0.398085</td><td>24830.000000</td></tr><tr><td>10890.000000</td><td>1.694674</td><td>29345.000000</td><td>-0.461238</td><td>15810.000000</td></tr><tr><td>20065.000000</td><td>-0.413158</td><td>11775.000000</td><td>0.533757</td><td>18060.000000</td></tr><tr><td>12245.000000</td><td>0.347897</td><td>16505.000000</td><td>-0.071494</td><td>15325.000000</td></tr><tr><td>14745.000000</td><td>-0.355036</td><td>9510.000000</td><td>3.548370</td><td>43255.000000</td></tr></table>"
                    },
                    "metadata": {}
                }
            ],
            "execution_count": 213
        },
        {
            "cell_type": "markdown",
            "source": [
                "¿Qué porcentaje de las ventas se ve afectado por aquellas órdenes devueltas y canceladas?"
            ],
            "metadata": {
                "language": "sql",
                "azdata_cell_guid": "2c9f55e5-e098-403b-8601-2f20775ff75e"
            },
            "attachments": {}
        },
        {
            "cell_type": "code",
            "source": [
                "WITH TGEN AS (\r\n",
                "    SELECT\r\n",
                "        SUM(unit_price * quantity) AS TotalVentas\r\n",
                "    FROM VIZ_SALES\r\n",
                "),\r\n",
                "TGEN_DESC AS (\r\n",
                "    SELECT\r\n",
                "        CASE description\r\n",
                "            WHEN 'Cancelled' THEN 'Canceled/Returned'\r\n",
                "            WHEN 'Returned' THEN 'Canceled/Returned'\r\n",
                "        ELSE description\r\n",
                "        END GroupDescription,\r\n",
                "        description,\r\n",
                "        SUM(unit_price * quantity) AS Ventas\r\n",
                "    FROM VIZ_SALES\r\n",
                "    GROUP BY description\r\n",
                ")\r\n",
                "SELECT \r\n",
                "    TD.GroupDescription,\r\n",
                "    TD.description,\r\n",
                "    TD.Ventas,\r\n",
                "    (TD.Ventas * 1.0 / TG.TotalVentas) AS [%Share],\r\n",
                "    (SUM(TD.Ventas) OVER(PARTITION BY GroupDescription) * 1.0 / TG.TotalVentas) AS [%SharebyGroup]\r\n",
                "    \r\n",
                "FROM TGEN_DESC TD, TGEN TG\r\n",
                "\r\n",
                ""
            ],
            "metadata": {
                "language": "sql",
                "azdata_cell_guid": "ecec8f28-ef5f-4097-852b-9b6e96975a6c",
                "tags": []
            },
            "outputs": [
                {
                    "output_type": "display_data",
                    "data": {
                        "text/html": "(5 rows affected)"
                    },
                    "metadata": {}
                },
                {
                    "output_type": "display_data",
                    "data": {
                        "text/html": "Total execution time: 00:00:00.066"
                    },
                    "metadata": {}
                },
                {
                    "output_type": "execute_result",
                    "execution_count": 214,
                    "data": {
                        "application/vnd.dataresource+json": {
                            "schema": {
                                "fields": [
                                    {
                                        "name": "GroupDescription"
                                    },
                                    {
                                        "name": "description"
                                    },
                                    {
                                        "name": "Ventas"
                                    },
                                    {
                                        "name": "%Share"
                                    },
                                    {
                                        "name": "%SharebyGroup"
                                    }
                                ]
                            },
                            "data": [
                                {
                                    "GroupDescription": "Canceled/Returned",
                                    "description": "Cancelled",
                                    "Ventas": "78740.000000",
                                    "%Share": "0.208480",
                                    "%SharebyGroup": "0.382541"
                                },
                                {
                                    "GroupDescription": "Canceled/Returned",
                                    "description": "Returned",
                                    "Ventas": "65740.000000",
                                    "%Share": "0.174060",
                                    "%SharebyGroup": "0.382541"
                                },
                                {
                                    "GroupDescription": "Created",
                                    "description": "Created",
                                    "Ventas": "74495.000000",
                                    "%Share": "0.197241",
                                    "%SharebyGroup": "0.197241"
                                },
                                {
                                    "GroupDescription": "Fulfilled",
                                    "description": "Fulfilled",
                                    "Ventas": "85085.000000",
                                    "%Share": "0.225280",
                                    "%SharebyGroup": "0.225280"
                                },
                                {
                                    "GroupDescription": "Processed",
                                    "description": "Processed",
                                    "Ventas": "73625.000000",
                                    "%Share": "0.194937",
                                    "%SharebyGroup": "0.194937"
                                }
                            ]
                        },
                        "text/html": "<table><tr><th>GroupDescription</th><th>description</th><th>Ventas</th><th>%Share</th><th>%SharebyGroup</th></tr><tr><td>Canceled/Returned</td><td>Cancelled</td><td>78740.000000</td><td>0.208480</td><td>0.382541</td></tr><tr><td>Canceled/Returned</td><td>Returned</td><td>65740.000000</td><td>0.174060</td><td>0.382541</td></tr><tr><td>Created</td><td>Created</td><td>74495.000000</td><td>0.197241</td><td>0.197241</td></tr><tr><td>Fulfilled</td><td>Fulfilled</td><td>85085.000000</td><td>0.225280</td><td>0.225280</td></tr><tr><td>Processed</td><td>Processed</td><td>73625.000000</td><td>0.194937</td><td>0.194937</td></tr></table>"
                    },
                    "metadata": {}
                }
            ],
            "execution_count": 214
        },
        {
            "cell_type": "markdown",
            "source": [
                "¿Cuántos productos y clientes no han tenido durante el último trimestre del año 2023?"
            ],
            "metadata": {
                "language": "sql",
                "azdata_cell_guid": "ae9823cf-adc2-452e-ae88-d889a849e1a3"
            },
            "attachments": {}
        },
        {
            "cell_type": "code",
            "source": [
                "SELECT \r\n",
                "    id_sale\r\n",
                "    ,CS.*\r\n",
                "FROM Sales AS SL\r\n",
                "FULL OUTER JOIN Customer AS CS ON SL.id_customer = CS.id_customer\r\n",
                "WHERE id_sale is null\r\n",
                "\r\n",
                "-- LEFT JOIN Products AS PD ON SL.id_product =  PD.id_product \r\n",
                "-- LEFT JOIN orden_status AS OST ON SL.id_status = OST.id_status"
            ],
            "metadata": {
                "language": "sql",
                "azdata_cell_guid": "209c68d3-e2ae-49d3-9e4c-84af8f702592"
            },
            "outputs": [
                {
                    "output_type": "display_data",
                    "data": {
                        "text/html": "(3 rows affected)"
                    },
                    "metadata": {}
                },
                {
                    "output_type": "display_data",
                    "data": {
                        "text/html": "Total execution time: 00:00:00.046"
                    },
                    "metadata": {}
                },
                {
                    "output_type": "execute_result",
                    "metadata": {},
                    "execution_count": 4,
                    "data": {
                        "application/vnd.dataresource+json": {
                            "schema": {
                                "fields": [
                                    {
                                        "name": "id_sale"
                                    },
                                    {
                                        "name": "id_customer"
                                    },
                                    {
                                        "name": "date_creation"
                                    },
                                    {
                                        "name": "customer_name"
                                    },
                                    {
                                        "name": "id_region"
                                    },
                                    {
                                        "name": "id_country"
                                    }
                                ]
                            },
                            "data": [
                                {
                                    "id_sale": "NULL",
                                    "id_customer": "4",
                                    "date_creation": "2023-10-18",
                                    "customer_name": "Emma Davis",
                                    "id_region": "2",
                                    "id_country": "2"
                                },
                                {
                                    "id_sale": "NULL",
                                    "id_customer": "17",
                                    "date_creation": "2023-10-22",
                                    "customer_name": "Michael Turner",
                                    "id_region": "2",
                                    "id_country": "3"
                                },
                                {
                                    "id_sale": "NULL",
                                    "id_customer": "28",
                                    "date_creation": "2023-12-16",
                                    "customer_name": "Dylan Morris",
                                    "id_region": "3",
                                    "id_country": "1"
                                }
                            ]
                        },
                        "text/html": [
                            "<table>",
                            "<tr><th>id_sale</th><th>id_customer</th><th>date_creation</th><th>customer_name</th><th>id_region</th><th>id_country</th></tr>",
                            "<tr><td>NULL</td><td>4</td><td>2023-10-18</td><td>Emma Davis</td><td>2</td><td>2</td></tr>",
                            "<tr><td>NULL</td><td>17</td><td>2023-10-22</td><td>Michael Turner</td><td>2</td><td>3</td></tr>",
                            "<tr><td>NULL</td><td>28</td><td>2023-12-16</td><td>Dylan Morris</td><td>3</td><td>1</td></tr>",
                            "</table>"
                        ]
                    }
                }
            ],
            "execution_count": 4
        },
        {
            "cell_type": "code",
            "source": [
                "SELECT \r\n",
                "    id_sale\r\n",
                "    ,PD.*\r\n",
                "FROM Sales AS SL\r\n",
                "FULL OUTER JOIN Products AS PD ON SL.id_product =  PD.id_product\r\n",
                "WHERE id_sale is null"
            ],
            "metadata": {
                "language": "sql",
                "azdata_cell_guid": "099f147d-8dae-46c7-b514-9066fdb7c42b"
            },
            "outputs": [
                {
                    "output_type": "display_data",
                    "data": {
                        "text/html": "(2 rows affected)"
                    },
                    "metadata": {}
                },
                {
                    "output_type": "display_data",
                    "data": {
                        "text/html": "Total execution time: 00:00:00.048"
                    },
                    "metadata": {}
                },
                {
                    "output_type": "execute_result",
                    "metadata": {},
                    "execution_count": 5,
                    "data": {
                        "application/vnd.dataresource+json": {
                            "schema": {
                                "fields": [
                                    {
                                        "name": "id_sale"
                                    },
                                    {
                                        "name": "id_product"
                                    },
                                    {
                                        "name": "product_name"
                                    },
                                    {
                                        "name": "category"
                                    },
                                    {
                                        "name": "unit_price"
                                    }
                                ]
                            },
                            "data": [
                                {
                                    "id_sale": "NULL",
                                    "id_product": "7",
                                    "product_name": "Zoom Pegasus",
                                    "category": "Pegasus",
                                    "unit_price": "135.000000"
                                },
                                {
                                    "id_sale": "NULL",
                                    "id_product": "14",
                                    "product_name": "ACG Terra Gobe",
                                    "category": "ACG",
                                    "unit_price": "140.000000"
                                }
                            ]
                        },
                        "text/html": [
                            "<table>",
                            "<tr><th>id_sale</th><th>id_product</th><th>product_name</th><th>category</th><th>unit_price</th></tr>",
                            "<tr><td>NULL</td><td>7</td><td>Zoom Pegasus</td><td>Pegasus</td><td>135.000000</td></tr>",
                            "<tr><td>NULL</td><td>14</td><td>ACG Terra Gobe</td><td>ACG</td><td>140.000000</td></tr>",
                            "</table>"
                        ]
                    }
                }
            ],
            "execution_count": 5
        }
    ]
}